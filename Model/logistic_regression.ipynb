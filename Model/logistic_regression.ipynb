{
 "cells": [
  {
   "cell_type": "code",
   "execution_count": 11,
   "metadata": {
    "collapsed": true
   },
   "outputs": [],
   "source": [
    "import pandas as pd\n",
    "import numpy as np\n",
    "from sklearn.decomposition import PCA\n",
    "import statsmodels.api as sm\n",
    "import pylab as pl"
   ]
  },
  {
   "cell_type": "code",
   "execution_count": 12,
   "metadata": {
    "collapsed": false
   },
   "outputs": [],
   "source": [
    "df_train = pd.read_csv('../Data/train.csv', header=None)\n",
    "df_test  = pd.read_csv('../Data/test.csv', header=None)\n",
    "df_train_Labels  = pd.read_csv('../Data/trainLabels.csv', header=None)"
   ]
  },
  {
   "cell_type": "code",
   "execution_count": null,
   "metadata": {
    "collapsed": true
   },
   "outputs": [],
   "source": []
  },
  {
   "cell_type": "code",
   "execution_count": null,
   "metadata": {
    "collapsed": false
   },
   "outputs": [],
   "source": []
  },
  {
   "cell_type": "code",
   "execution_count": 13,
   "metadata": {
    "collapsed": false
   },
   "outputs": [],
   "source": [
    "def Logistic_accuracy(iteration):\n",
    "    accuracy=0.0\n",
    "    \n",
    "    for i in range(iteration):\n",
    "        msk = np.random.rand(len(df_train)) < 0.8\n",
    "\n",
    "        # train\n",
    "        train = df_train[msk]\n",
    "        train_Labels= df_train_Labels[msk]\n",
    "\n",
    "        # test\n",
    "        test = df_train[~msk]\n",
    "        test_Labels= df_train_Labels[~msk]\n",
    "\n",
    "        pca = PCA(n_components=10)\n",
    "\n",
    "        pca.fit(train)\n",
    "\n",
    "        pca_train=pca.transform(train) \n",
    "        logit = sm.Logit(train_Labels, pca_train,disp=False)\n",
    "        result = logit.fit(disp=False)\n",
    "        \n",
    "        \n",
    "        pca_test=pca.transform(test)\n",
    "        results=result.predict(pca_test)\n",
    "\n",
    "        prediction=[]\n",
    "        for result in results:\n",
    "            if result>=0.5:\n",
    "                prediction.append(1)\n",
    "            else:\n",
    "                prediction.append(0)\n",
    "\n",
    "        actual=list(test_Labels[0])\n",
    "\n",
    "        count=0\n",
    "        for ith in range(len(prediction)):\n",
    "            if prediction[ith]==actual[ith]:\n",
    "                count=count+1\n",
    "\n",
    "        accuracy=accuracy+float(count)/len(test)\n",
    "\n",
    "    print accuracy/iteration"
   ]
  },
  {
   "cell_type": "code",
   "execution_count": 14,
   "metadata": {
    "collapsed": false
   },
   "outputs": [
    {
     "name": "stdout",
     "output_type": "stream",
     "text": [
      "0.808478649684\n"
     ]
    }
   ],
   "source": [
    "Logistic_accuracy(1000)"
   ]
  },
  {
   "cell_type": "code",
   "execution_count": null,
   "metadata": {
    "collapsed": true
   },
   "outputs": [],
   "source": []
  },
  {
   "cell_type": "code",
   "execution_count": 23,
   "metadata": {
    "collapsed": false
   },
   "outputs": [],
   "source": [
    "pca = PCA(n_components=10)\n",
    "pca.fit(df_train)\n",
    "pca_train=pca.transform(df_train) \n",
    "logit = sm.Logit(df_train_Labels, pca_train,disp=False)\n",
    "result = logit.fit(disp=False)"
   ]
  },
  {
   "cell_type": "code",
   "execution_count": null,
   "metadata": {
    "collapsed": true
   },
   "outputs": [],
   "source": []
  },
  {
   "cell_type": "code",
   "execution_count": 24,
   "metadata": {
    "collapsed": true
   },
   "outputs": [],
   "source": [
    "pca_test=pca.transform(df_test)\n",
    "predicts=result.predict(pca_test)"
   ]
  },
  {
   "cell_type": "code",
   "execution_count": 25,
   "metadata": {
    "collapsed": false
   },
   "outputs": [],
   "source": [
    "prediction=[]\n",
    "for ith in range(len(predicts)):\n",
    "    if predicts[ith]>=0.5:\n",
    "        prediction.append([ith+1,1])\n",
    "    else:\n",
    "        prediction.append([ith+1,0])\n"
   ]
  },
  {
   "cell_type": "code",
   "execution_count": 26,
   "metadata": {
    "collapsed": true
   },
   "outputs": [],
   "source": [
    "predicted=pd.DataFrame(prediction,columns=['Id','Solution'])"
   ]
  },
  {
   "cell_type": "code",
   "execution_count": 27,
   "metadata": {
    "collapsed": false
   },
   "outputs": [],
   "source": [
    "predicted=predicted.set_index('Id')"
   ]
  },
  {
   "cell_type": "code",
   "execution_count": 28,
   "metadata": {
    "collapsed": false
   },
   "outputs": [],
   "source": [
    "predicted.to_csv('../predicted_data/logistic_outcome.csv')"
   ]
  },
  {
   "cell_type": "code",
   "execution_count": null,
   "metadata": {
    "collapsed": true
   },
   "outputs": [],
   "source": []
  },
  {
   "cell_type": "code",
   "execution_count": null,
   "metadata": {
    "collapsed": false
   },
   "outputs": [],
   "source": []
  },
  {
   "cell_type": "code",
   "execution_count": null,
   "metadata": {
    "collapsed": true
   },
   "outputs": [],
   "source": []
  }
 ],
 "metadata": {
  "anaconda-cloud": {},
  "kernelspec": {
   "display_name": "Python [Root]",
   "language": "python",
   "name": "Python [Root]"
  },
  "language_info": {
   "codemirror_mode": {
    "name": "ipython",
    "version": 2
   },
   "file_extension": ".py",
   "mimetype": "text/x-python",
   "name": "python",
   "nbconvert_exporter": "python",
   "pygments_lexer": "ipython2",
   "version": "2.7.12"
  }
 },
 "nbformat": 4,
 "nbformat_minor": 0
}
