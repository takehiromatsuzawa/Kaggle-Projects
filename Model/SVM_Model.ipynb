{
 "cells": [
  {
   "cell_type": "code",
   "execution_count": 13,
   "metadata": {
    "collapsed": true
   },
   "outputs": [],
   "source": [
    "import pandas as pd\n",
    "import numpy as np\n",
    "from sklearn import svm, datasets"
   ]
  },
  {
   "cell_type": "code",
   "execution_count": 14,
   "metadata": {
    "collapsed": true
   },
   "outputs": [],
   "source": [
    "df_train = pd.read_csv('../Data/train.csv', header=None)\n",
    "df_test  = pd.read_csv('../Data/test.csv', header=None)\n",
    "df_train_Labels  = pd.read_csv('../Data/trainLabels.csv', header=None)"
   ]
  },
  {
   "cell_type": "markdown",
   "metadata": {},
   "source": [
    "#### SVM\n",
    "\n",
    "Since SVM can deal with high-dimensional data, I use SVM. I divided the data set into train (80%) and test set(20%). \n",
    "\n",
    "I predict the label of the test set based on train set. I repeated this process 10000 times and see the accuracy.\n",
    "\n"
   ]
  },
  {
   "cell_type": "code",
   "execution_count": 15,
   "metadata": {
    "collapsed": false
   },
   "outputs": [],
   "source": [
    "def SVM_accuracy():\n",
    "    accuracy=0\n",
    "    iteration=1000\n",
    "    for i in range(iteration):\n",
    "        msk = np.random.rand(len(df_train)) < 0.8\n",
    "\n",
    "        # train\n",
    "        train = df_train[msk]\n",
    "        train_Labels= df_train_Labels[msk]\n",
    "\n",
    "        # test\n",
    "        test = df_train[~msk]\n",
    "        test_Labels= df_train_Labels[~msk]\n",
    "\n",
    "        \n",
    "        svc = svm.SVC(kernel='rbf', C=1,gamma='auto').fit(train, np.array(train_Labels[0]))\n",
    "\n",
    "        test_matrix =  test.as_matrix()\n",
    "        actual=list(test_Labels[0])\n",
    "        prediction=[]\n",
    "        for sample in test_matrix :\n",
    "            prediction.append(svc.predict([sample])[0])\n",
    "        count=0\n",
    "        for ith in range(len(prediction)):\n",
    "            if prediction[ith]==actual[ith]:\n",
    "                count=count+1\n",
    "\n",
    "        accuracy=accuracy+float(count)/len(test_Labels)\n",
    "    print accuracy/iteration"
   ]
  },
  {
   "cell_type": "code",
   "execution_count": 16,
   "metadata": {
    "collapsed": false
   },
   "outputs": [
    {
     "name": "stdout",
     "output_type": "stream",
     "text": [
      "0.909865587077\n"
     ]
    }
   ],
   "source": [
    "SVM_accuracy()"
   ]
  },
  {
   "cell_type": "code",
   "execution_count": null,
   "metadata": {
    "collapsed": true
   },
   "outputs": [],
   "source": []
  },
  {
   "cell_type": "code",
   "execution_count": 17,
   "metadata": {
    "collapsed": true
   },
   "outputs": [],
   "source": [
    "svc_all = svm.SVC(kernel='rbf', C=1,gamma='auto').fit(df_train, np.array(df_train_Labels[0]))"
   ]
  },
  {
   "cell_type": "code",
   "execution_count": 18,
   "metadata": {
    "collapsed": false
   },
   "outputs": [],
   "source": [
    "df_test_matrix=df_test.as_matrix()"
   ]
  },
  {
   "cell_type": "code",
   "execution_count": 19,
   "metadata": {
    "collapsed": false
   },
   "outputs": [],
   "source": [
    "prediction=[]\n",
    "for ith in range(len(df_test_matrix)):\n",
    "    prediction.append([ith+1,svc_all.predict([df_test_matrix[ith]])[0]])"
   ]
  },
  {
   "cell_type": "code",
   "execution_count": 20,
   "metadata": {
    "collapsed": false
   },
   "outputs": [],
   "source": [
    "predicted=pd.DataFrame(prediction,columns=['Id','Solution'])"
   ]
  },
  {
   "cell_type": "code",
   "execution_count": 22,
   "metadata": {
    "collapsed": false
   },
   "outputs": [],
   "source": [
    "predicted=predicted.set_index('Id')"
   ]
  },
  {
   "cell_type": "code",
   "execution_count": 23,
   "metadata": {
    "collapsed": false
   },
   "outputs": [],
   "source": [
    "predicted.to_csv('../predicted_data/svm_outcome.csv')"
   ]
  },
  {
   "cell_type": "code",
   "execution_count": null,
   "metadata": {
    "collapsed": true
   },
   "outputs": [],
   "source": []
  }
 ],
 "metadata": {
  "anaconda-cloud": {},
  "kernelspec": {
   "display_name": "Python [Root]",
   "language": "python",
   "name": "Python [Root]"
  },
  "language_info": {
   "codemirror_mode": {
    "name": "ipython",
    "version": 2
   },
   "file_extension": ".py",
   "mimetype": "text/x-python",
   "name": "python",
   "nbconvert_exporter": "python",
   "pygments_lexer": "ipython2",
   "version": "2.7.12"
  }
 },
 "nbformat": 4,
 "nbformat_minor": 0
}
